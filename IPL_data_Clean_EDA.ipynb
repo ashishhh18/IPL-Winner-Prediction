{
  "cells": [
    {
      "cell_type": "code",
      "execution_count": null,
      "id": "44d60ab0-ef5a-4c9d-aae3-5006256cf755",
      "metadata": {
        "id": "44d60ab0-ef5a-4c9d-aae3-5006256cf755"
      },
      "outputs": [],
      "source": [
        "import pandas as pd\n",
        "import matplotlib.pyplot as plt\n",
        "import seaborn as sns"
      ]
    },
    {
      "cell_type": "code",
      "execution_count": null,
      "id": "aa2a3b44-af40-438a-986e-81163df122dc",
      "metadata": {
        "id": "aa2a3b44-af40-438a-986e-81163df122dc"
      },
      "outputs": [],
      "source": [
        "data=pd.read_csv(\"matches.csv\")"
      ]
    },
    {
      "cell_type": "code",
      "execution_count": null,
      "id": "79659545-ce5b-4417-8096-ed2c6e882e23",
      "metadata": {
        "colab": {
          "base_uri": "https://localhost:8080/"
        },
        "id": "79659545-ce5b-4417-8096-ed2c6e882e23",
        "outputId": "eef0283a-a4e2-4a50-8bce-1cbe5db0e6a6"
      },
      "outputs": [
        {
          "output_type": "stream",
          "name": "stdout",
          "text": [
            "   id  season       city      date                        team1  \\\n",
            "0   1    2017  Hyderabad  5/4/2017          Sunrisers Hyderabad   \n",
            "1   2    2017       Pune  6/4/2017               Mumbai Indians   \n",
            "2   3    2017     Rajkot  7/4/2017                Gujarat Lions   \n",
            "3   4    2017     Indore  8/4/2017       Rising Pune Supergiant   \n",
            "4   5    2017  Bangalore  8/4/2017  Royal Challengers Bangalore   \n",
            "\n",
            "                         team2                  toss_winner toss_decision  \\\n",
            "0  Royal Challengers Bangalore  Royal Challengers Bangalore         field   \n",
            "1       Rising Pune Supergiant       Rising Pune Supergiant         field   \n",
            "2        Kolkata Knight Riders        Kolkata Knight Riders         field   \n",
            "3              Kings XI Punjab              Kings XI Punjab         field   \n",
            "4             Delhi Daredevils  Royal Challengers Bangalore           bat   \n",
            "\n",
            "   result  dl_applied                       winner  win_by_runs  \\\n",
            "0  normal           0          Sunrisers Hyderabad           35   \n",
            "1  normal           0       Rising Pune Supergiant            0   \n",
            "2  normal           0        Kolkata Knight Riders            0   \n",
            "3  normal           0              Kings XI Punjab            0   \n",
            "4  normal           0  Royal Challengers Bangalore           15   \n",
            "\n",
            "   win_by_wickets player_of_match                                      venue  \\\n",
            "0               0    Yuvraj Singh  Rajiv Gandhi International Stadium, Uppal   \n",
            "1               7       SPD Smith    Maharashtra Cricket Association Stadium   \n",
            "2              10         CA Lynn     Saurashtra Cricket Association Stadium   \n",
            "3               6      GJ Maxwell                     Holkar Cricket Stadium   \n",
            "4               0       KM Jadhav                      M Chinnaswamy Stadium   \n",
            "\n",
            "          umpire1        umpire2  umpire3  \n",
            "0     AY Dandekar       NJ Llong      NaN  \n",
            "1  A Nand Kishore         S Ravi      NaN  \n",
            "2     Nitin Menon      CK Nandan      NaN  \n",
            "3    AK Chaudhary  C Shamshuddin      NaN  \n",
            "4             NaN            NaN      NaN  \n"
          ]
        }
      ],
      "source": [
        "print(data.head(5))"
      ]
    },
    {
      "cell_type": "code",
      "execution_count": null,
      "id": "83756bdc-d664-42c9-9887-498a3e0ec661",
      "metadata": {
        "colab": {
          "base_uri": "https://localhost:8080/",
          "height": 203
        },
        "id": "83756bdc-d664-42c9-9887-498a3e0ec661",
        "outputId": "2a1f5d26-efc2-49f0-831a-05d904e51f56"
      },
      "outputs": [
        {
          "output_type": "execute_result",
          "data": {
            "text/plain": [
              "<bound method DataFrame.info of       id  season       city      date                        team1  \\\n",
              "0      1    2017  Hyderabad  5/4/2017          Sunrisers Hyderabad   \n",
              "1      2    2017       Pune  6/4/2017               Mumbai Indians   \n",
              "2      3    2017     Rajkot  7/4/2017                Gujarat Lions   \n",
              "3      4    2017     Indore  8/4/2017       Rising Pune Supergiant   \n",
              "4      5    2017  Bangalore  8/4/2017  Royal Challengers Bangalore   \n",
              "..   ...     ...        ...       ...                          ...   \n",
              "631  632    2016     Raipur  22/05/16             Delhi Daredevils   \n",
              "632  633    2016  Bangalore  24/05/16                Gujarat Lions   \n",
              "633  634    2016      Delhi  25/05/16          Sunrisers Hyderabad   \n",
              "634  635    2016      Delhi  27/05/16                Gujarat Lions   \n",
              "635  636    2016  Bangalore  29/05/16          Sunrisers Hyderabad   \n",
              "\n",
              "                           team2                  toss_winner toss_decision  \\\n",
              "0    Royal Challengers Bangalore  Royal Challengers Bangalore         field   \n",
              "1         Rising Pune Supergiant       Rising Pune Supergiant         field   \n",
              "2          Kolkata Knight Riders        Kolkata Knight Riders         field   \n",
              "3                Kings XI Punjab              Kings XI Punjab         field   \n",
              "4               Delhi Daredevils  Royal Challengers Bangalore           bat   \n",
              "..                           ...                          ...           ...   \n",
              "631  Royal Challengers Bangalore  Royal Challengers Bangalore         field   \n",
              "632  Royal Challengers Bangalore  Royal Challengers Bangalore         field   \n",
              "633        Kolkata Knight Riders        Kolkata Knight Riders         field   \n",
              "634          Sunrisers Hyderabad          Sunrisers Hyderabad         field   \n",
              "635  Royal Challengers Bangalore          Sunrisers Hyderabad           bat   \n",
              "\n",
              "     result  dl_applied                       winner  win_by_runs  \\\n",
              "0    normal           0          Sunrisers Hyderabad           35   \n",
              "1    normal           0       Rising Pune Supergiant            0   \n",
              "2    normal           0        Kolkata Knight Riders            0   \n",
              "3    normal           0              Kings XI Punjab            0   \n",
              "4    normal           0  Royal Challengers Bangalore           15   \n",
              "..      ...         ...                          ...          ...   \n",
              "631  normal           0  Royal Challengers Bangalore            0   \n",
              "632  normal           0  Royal Challengers Bangalore            0   \n",
              "633  normal           0          Sunrisers Hyderabad           22   \n",
              "634  normal           0          Sunrisers Hyderabad            0   \n",
              "635  normal           0          Sunrisers Hyderabad            8   \n",
              "\n",
              "     win_by_wickets player_of_match  \\\n",
              "0                 0    Yuvraj Singh   \n",
              "1                 7       SPD Smith   \n",
              "2                10         CA Lynn   \n",
              "3                 6      GJ Maxwell   \n",
              "4                 0       KM Jadhav   \n",
              "..              ...             ...   \n",
              "631               6         V Kohli   \n",
              "632               4  AB de Villiers   \n",
              "633               0    MC Henriques   \n",
              "634               4       DA Warner   \n",
              "635               0     BCJ Cutting   \n",
              "\n",
              "                                                venue          umpire1  \\\n",
              "0           Rajiv Gandhi International Stadium, Uppal      AY Dandekar   \n",
              "1             Maharashtra Cricket Association Stadium   A Nand Kishore   \n",
              "2              Saurashtra Cricket Association Stadium      Nitin Menon   \n",
              "3                              Holkar Cricket Stadium     AK Chaudhary   \n",
              "4                               M Chinnaswamy Stadium              NaN   \n",
              "..                                                ...              ...   \n",
              "631  Shaheed Veer Narayan Singh International Stadium   A Nand Kishore   \n",
              "632                             M Chinnaswamy Stadium     AK Chaudhary   \n",
              "633                                  Feroz Shah Kotla        M Erasmus   \n",
              "634                                  Feroz Shah Kotla        M Erasmus   \n",
              "635                             M Chinnaswamy Stadium  HDPK Dharmasena   \n",
              "\n",
              "             umpire2  umpire3  \n",
              "0           NJ Llong      NaN  \n",
              "1             S Ravi      NaN  \n",
              "2          CK Nandan      NaN  \n",
              "3      C Shamshuddin      NaN  \n",
              "4                NaN      NaN  \n",
              "..               ...      ...  \n",
              "631     BNJ Oxenford      NaN  \n",
              "632  HDPK Dharmasena      NaN  \n",
              "633    C Shamshuddin      NaN  \n",
              "634        CK Nandan      NaN  \n",
              "635     BNJ Oxenford      NaN  \n",
              "\n",
              "[636 rows x 18 columns]>"
            ],
            "text/html": [
              "<div style=\"max-width:800px; border: 1px solid var(--colab-border-color);\"><style>\n",
              "      pre.function-repr-contents {\n",
              "        overflow-x: auto;\n",
              "        padding: 8px 12px;\n",
              "        max-height: 500px;\n",
              "      }\n",
              "\n",
              "      pre.function-repr-contents.function-repr-contents-collapsed {\n",
              "        cursor: pointer;\n",
              "        max-height: 100px;\n",
              "      }\n",
              "    </style>\n",
              "    <pre style=\"white-space: initial; background:\n",
              "         var(--colab-secondary-surface-color); padding: 8px 12px;\n",
              "         border-bottom: 1px solid var(--colab-border-color);\"><b>pandas.core.frame.DataFrame.info</b><br/>def info(verbose: bool | None=None, buf: WriteBuffer[str] | None=None, max_cols: int | None=None, memory_usage: bool | str | None=None, show_counts: bool | None=None) -&gt; None</pre><pre class=\"function-repr-contents function-repr-contents-collapsed\" style=\"\"><a class=\"filepath\" style=\"display:none\" href=\"#\">/usr/local/lib/python3.11/dist-packages/pandas/core/frame.py</a>Print a concise summary of a DataFrame.\n",
              "\n",
              "This method prints information about a DataFrame including\n",
              "the index dtype and columns, non-null values and memory usage.\n",
              "\n",
              "Parameters\n",
              "----------\n",
              "verbose : bool, optional\n",
              "    Whether to print the full summary. By default, the setting in\n",
              "    ``pandas.options.display.max_info_columns`` is followed.\n",
              "buf : writable buffer, defaults to sys.stdout\n",
              "    Where to send the output. By default, the output is printed to\n",
              "    sys.stdout. Pass a writable buffer if you need to further process\n",
              "    the output.\n",
              "max_cols : int, optional\n",
              "    When to switch from the verbose to the truncated output. If the\n",
              "    DataFrame has more than `max_cols` columns, the truncated output\n",
              "    is used. By default, the setting in\n",
              "    ``pandas.options.display.max_info_columns`` is used.\n",
              "memory_usage : bool, str, optional\n",
              "    Specifies whether total memory usage of the DataFrame\n",
              "    elements (including the index) should be displayed. By default,\n",
              "    this follows the ``pandas.options.display.memory_usage`` setting.\n",
              "\n",
              "    True always show memory usage. False never shows memory usage.\n",
              "    A value of &#x27;deep&#x27; is equivalent to &quot;True with deep introspection&quot;.\n",
              "    Memory usage is shown in human-readable units (base-2\n",
              "    representation). Without deep introspection a memory estimation is\n",
              "    made based in column dtype and number of rows assuming values\n",
              "    consume the same memory amount for corresponding dtypes. With deep\n",
              "    memory introspection, a real memory usage calculation is performed\n",
              "    at the cost of computational resources. See the\n",
              "    :ref:`Frequently Asked Questions &lt;df-memory-usage&gt;` for more\n",
              "    details.\n",
              "show_counts : bool, optional\n",
              "    Whether to show the non-null counts. By default, this is shown\n",
              "    only if the DataFrame is smaller than\n",
              "    ``pandas.options.display.max_info_rows`` and\n",
              "    ``pandas.options.display.max_info_columns``. A value of True always\n",
              "    shows the counts, and False never shows the counts.\n",
              "\n",
              "Returns\n",
              "-------\n",
              "None\n",
              "    This method prints a summary of a DataFrame and returns None.\n",
              "\n",
              "See Also\n",
              "--------\n",
              "DataFrame.describe: Generate descriptive statistics of DataFrame\n",
              "    columns.\n",
              "DataFrame.memory_usage: Memory usage of DataFrame columns.\n",
              "\n",
              "Examples\n",
              "--------\n",
              "&gt;&gt;&gt; int_values = [1, 2, 3, 4, 5]\n",
              "&gt;&gt;&gt; text_values = [&#x27;alpha&#x27;, &#x27;beta&#x27;, &#x27;gamma&#x27;, &#x27;delta&#x27;, &#x27;epsilon&#x27;]\n",
              "&gt;&gt;&gt; float_values = [0.0, 0.25, 0.5, 0.75, 1.0]\n",
              "&gt;&gt;&gt; df = pd.DataFrame({&quot;int_col&quot;: int_values, &quot;text_col&quot;: text_values,\n",
              "...                   &quot;float_col&quot;: float_values})\n",
              "&gt;&gt;&gt; df\n",
              "    int_col text_col  float_col\n",
              "0        1    alpha       0.00\n",
              "1        2     beta       0.25\n",
              "2        3    gamma       0.50\n",
              "3        4    delta       0.75\n",
              "4        5  epsilon       1.00\n",
              "\n",
              "Prints information of all columns:\n",
              "\n",
              "&gt;&gt;&gt; df.info(verbose=True)\n",
              "&lt;class &#x27;pandas.core.frame.DataFrame&#x27;&gt;\n",
              "RangeIndex: 5 entries, 0 to 4\n",
              "Data columns (total 3 columns):\n",
              " #   Column     Non-Null Count  Dtype\n",
              "---  ------     --------------  -----\n",
              " 0   int_col    5 non-null      int64\n",
              " 1   text_col   5 non-null      object\n",
              " 2   float_col  5 non-null      float64\n",
              "dtypes: float64(1), int64(1), object(1)\n",
              "memory usage: 248.0+ bytes\n",
              "\n",
              "Prints a summary of columns count and its dtypes but not per column\n",
              "information:\n",
              "\n",
              "&gt;&gt;&gt; df.info(verbose=False)\n",
              "&lt;class &#x27;pandas.core.frame.DataFrame&#x27;&gt;\n",
              "RangeIndex: 5 entries, 0 to 4\n",
              "Columns: 3 entries, int_col to float_col\n",
              "dtypes: float64(1), int64(1), object(1)\n",
              "memory usage: 248.0+ bytes\n",
              "\n",
              "Pipe output of DataFrame.info to buffer instead of sys.stdout, get\n",
              "buffer content and writes to a text file:\n",
              "\n",
              "&gt;&gt;&gt; import io\n",
              "&gt;&gt;&gt; buffer = io.StringIO()\n",
              "&gt;&gt;&gt; df.info(buf=buffer)\n",
              "&gt;&gt;&gt; s = buffer.getvalue()\n",
              "&gt;&gt;&gt; with open(&quot;df_info.txt&quot;, &quot;w&quot;,\n",
              "...           encoding=&quot;utf-8&quot;) as f:  # doctest: +SKIP\n",
              "...     f.write(s)\n",
              "260\n",
              "\n",
              "The `memory_usage` parameter allows deep introspection mode, specially\n",
              "useful for big DataFrames and fine-tune memory optimization:\n",
              "\n",
              "&gt;&gt;&gt; random_strings_array = np.random.choice([&#x27;a&#x27;, &#x27;b&#x27;, &#x27;c&#x27;], 10 ** 6)\n",
              "&gt;&gt;&gt; df = pd.DataFrame({\n",
              "...     &#x27;column_1&#x27;: np.random.choice([&#x27;a&#x27;, &#x27;b&#x27;, &#x27;c&#x27;], 10 ** 6),\n",
              "...     &#x27;column_2&#x27;: np.random.choice([&#x27;a&#x27;, &#x27;b&#x27;, &#x27;c&#x27;], 10 ** 6),\n",
              "...     &#x27;column_3&#x27;: np.random.choice([&#x27;a&#x27;, &#x27;b&#x27;, &#x27;c&#x27;], 10 ** 6)\n",
              "... })\n",
              "&gt;&gt;&gt; df.info()\n",
              "&lt;class &#x27;pandas.core.frame.DataFrame&#x27;&gt;\n",
              "RangeIndex: 1000000 entries, 0 to 999999\n",
              "Data columns (total 3 columns):\n",
              " #   Column    Non-Null Count    Dtype\n",
              "---  ------    --------------    -----\n",
              " 0   column_1  1000000 non-null  object\n",
              " 1   column_2  1000000 non-null  object\n",
              " 2   column_3  1000000 non-null  object\n",
              "dtypes: object(3)\n",
              "memory usage: 22.9+ MB\n",
              "\n",
              "&gt;&gt;&gt; df.info(memory_usage=&#x27;deep&#x27;)\n",
              "&lt;class &#x27;pandas.core.frame.DataFrame&#x27;&gt;\n",
              "RangeIndex: 1000000 entries, 0 to 999999\n",
              "Data columns (total 3 columns):\n",
              " #   Column    Non-Null Count    Dtype\n",
              "---  ------    --------------    -----\n",
              " 0   column_1  1000000 non-null  object\n",
              " 1   column_2  1000000 non-null  object\n",
              " 2   column_3  1000000 non-null  object\n",
              "dtypes: object(3)\n",
              "memory usage: 165.9 MB</pre>\n",
              "      <script>\n",
              "      if (google.colab.kernel.accessAllowed && google.colab.files && google.colab.files.view) {\n",
              "        for (const element of document.querySelectorAll('.filepath')) {\n",
              "          element.style.display = 'block'\n",
              "          element.onclick = (event) => {\n",
              "            event.preventDefault();\n",
              "            event.stopPropagation();\n",
              "            google.colab.files.view(element.textContent, 3646);\n",
              "          };\n",
              "        }\n",
              "      }\n",
              "      for (const element of document.querySelectorAll('.function-repr-contents')) {\n",
              "        element.onclick = (event) => {\n",
              "          event.preventDefault();\n",
              "          event.stopPropagation();\n",
              "          element.classList.toggle('function-repr-contents-collapsed');\n",
              "        };\n",
              "      }\n",
              "      </script>\n",
              "      </div>"
            ]
          },
          "metadata": {},
          "execution_count": 4
        }
      ],
      "source": [
        "data.info"
      ]
    },
    {
      "cell_type": "code",
      "execution_count": null,
      "id": "c665d714-0ca7-4219-a581-3b7291d1adfb",
      "metadata": {
        "id": "c665d714-0ca7-4219-a581-3b7291d1adfb"
      },
      "outputs": [],
      "source": [
        "data=data.drop(columns=['umpire3'])"
      ]
    },
    {
      "cell_type": "code",
      "execution_count": null,
      "id": "d8da0c25-222a-4ba4-9e8a-9bc3b2453669",
      "metadata": {
        "colab": {
          "base_uri": "https://localhost:8080/",
          "height": 186
        },
        "id": "d8da0c25-222a-4ba4-9e8a-9bc3b2453669",
        "outputId": "d64de00e-355d-43ca-c240-30efb32dfe30"
      },
      "outputs": [
        {
          "output_type": "execute_result",
          "data": {
            "text/plain": [
              "<bound method NDFrame.describe of       id  season       city      date                        team1  \\\n",
              "0      1    2017  Hyderabad  5/4/2017          Sunrisers Hyderabad   \n",
              "1      2    2017       Pune  6/4/2017               Mumbai Indians   \n",
              "2      3    2017     Rajkot  7/4/2017                Gujarat Lions   \n",
              "3      4    2017     Indore  8/4/2017       Rising Pune Supergiant   \n",
              "4      5    2017  Bangalore  8/4/2017  Royal Challengers Bangalore   \n",
              "..   ...     ...        ...       ...                          ...   \n",
              "631  632    2016     Raipur  22/05/16             Delhi Daredevils   \n",
              "632  633    2016  Bangalore  24/05/16                Gujarat Lions   \n",
              "633  634    2016      Delhi  25/05/16          Sunrisers Hyderabad   \n",
              "634  635    2016      Delhi  27/05/16                Gujarat Lions   \n",
              "635  636    2016  Bangalore  29/05/16          Sunrisers Hyderabad   \n",
              "\n",
              "                           team2                  toss_winner toss_decision  \\\n",
              "0    Royal Challengers Bangalore  Royal Challengers Bangalore         field   \n",
              "1         Rising Pune Supergiant       Rising Pune Supergiant         field   \n",
              "2          Kolkata Knight Riders        Kolkata Knight Riders         field   \n",
              "3                Kings XI Punjab              Kings XI Punjab         field   \n",
              "4               Delhi Daredevils  Royal Challengers Bangalore           bat   \n",
              "..                           ...                          ...           ...   \n",
              "631  Royal Challengers Bangalore  Royal Challengers Bangalore         field   \n",
              "632  Royal Challengers Bangalore  Royal Challengers Bangalore         field   \n",
              "633        Kolkata Knight Riders        Kolkata Knight Riders         field   \n",
              "634          Sunrisers Hyderabad          Sunrisers Hyderabad         field   \n",
              "635  Royal Challengers Bangalore          Sunrisers Hyderabad           bat   \n",
              "\n",
              "     result  dl_applied                       winner  win_by_runs  \\\n",
              "0    normal           0          Sunrisers Hyderabad           35   \n",
              "1    normal           0       Rising Pune Supergiant            0   \n",
              "2    normal           0        Kolkata Knight Riders            0   \n",
              "3    normal           0              Kings XI Punjab            0   \n",
              "4    normal           0  Royal Challengers Bangalore           15   \n",
              "..      ...         ...                          ...          ...   \n",
              "631  normal           0  Royal Challengers Bangalore            0   \n",
              "632  normal           0  Royal Challengers Bangalore            0   \n",
              "633  normal           0          Sunrisers Hyderabad           22   \n",
              "634  normal           0          Sunrisers Hyderabad            0   \n",
              "635  normal           0          Sunrisers Hyderabad            8   \n",
              "\n",
              "     win_by_wickets player_of_match  \\\n",
              "0                 0    Yuvraj Singh   \n",
              "1                 7       SPD Smith   \n",
              "2                10         CA Lynn   \n",
              "3                 6      GJ Maxwell   \n",
              "4                 0       KM Jadhav   \n",
              "..              ...             ...   \n",
              "631               6         V Kohli   \n",
              "632               4  AB de Villiers   \n",
              "633               0    MC Henriques   \n",
              "634               4       DA Warner   \n",
              "635               0     BCJ Cutting   \n",
              "\n",
              "                                                venue          umpire1  \\\n",
              "0           Rajiv Gandhi International Stadium, Uppal      AY Dandekar   \n",
              "1             Maharashtra Cricket Association Stadium   A Nand Kishore   \n",
              "2              Saurashtra Cricket Association Stadium      Nitin Menon   \n",
              "3                              Holkar Cricket Stadium     AK Chaudhary   \n",
              "4                               M Chinnaswamy Stadium              NaN   \n",
              "..                                                ...              ...   \n",
              "631  Shaheed Veer Narayan Singh International Stadium   A Nand Kishore   \n",
              "632                             M Chinnaswamy Stadium     AK Chaudhary   \n",
              "633                                  Feroz Shah Kotla        M Erasmus   \n",
              "634                                  Feroz Shah Kotla        M Erasmus   \n",
              "635                             M Chinnaswamy Stadium  HDPK Dharmasena   \n",
              "\n",
              "             umpire2  \n",
              "0           NJ Llong  \n",
              "1             S Ravi  \n",
              "2          CK Nandan  \n",
              "3      C Shamshuddin  \n",
              "4                NaN  \n",
              "..               ...  \n",
              "631     BNJ Oxenford  \n",
              "632  HDPK Dharmasena  \n",
              "633    C Shamshuddin  \n",
              "634        CK Nandan  \n",
              "635     BNJ Oxenford  \n",
              "\n",
              "[636 rows x 17 columns]>"
            ],
            "text/html": [
              "<div style=\"max-width:800px; border: 1px solid var(--colab-border-color);\"><style>\n",
              "      pre.function-repr-contents {\n",
              "        overflow-x: auto;\n",
              "        padding: 8px 12px;\n",
              "        max-height: 500px;\n",
              "      }\n",
              "\n",
              "      pre.function-repr-contents.function-repr-contents-collapsed {\n",
              "        cursor: pointer;\n",
              "        max-height: 100px;\n",
              "      }\n",
              "    </style>\n",
              "    <pre style=\"white-space: initial; background:\n",
              "         var(--colab-secondary-surface-color); padding: 8px 12px;\n",
              "         border-bottom: 1px solid var(--colab-border-color);\"><b>pandas.core.generic.NDFrame.describe</b><br/>def describe(percentiles=None, include=None, exclude=None) -&gt; Self</pre><pre class=\"function-repr-contents function-repr-contents-collapsed\" style=\"\"><a class=\"filepath\" style=\"display:none\" href=\"#\">/usr/local/lib/python3.11/dist-packages/pandas/core/generic.py</a>Generate descriptive statistics.\n",
              "\n",
              "Descriptive statistics include those that summarize the central\n",
              "tendency, dispersion and shape of a\n",
              "dataset&#x27;s distribution, excluding ``NaN`` values.\n",
              "\n",
              "Analyzes both numeric and object series, as well\n",
              "as ``DataFrame`` column sets of mixed data types. The output\n",
              "will vary depending on what is provided. Refer to the notes\n",
              "below for more detail.\n",
              "\n",
              "Parameters\n",
              "----------\n",
              "percentiles : list-like of numbers, optional\n",
              "    The percentiles to include in the output. All should\n",
              "    fall between 0 and 1. The default is\n",
              "    ``[.25, .5, .75]``, which returns the 25th, 50th, and\n",
              "    75th percentiles.\n",
              "include : &#x27;all&#x27;, list-like of dtypes or None (default), optional\n",
              "    A white list of data types to include in the result. Ignored\n",
              "    for ``Series``. Here are the options:\n",
              "\n",
              "    - &#x27;all&#x27; : All columns of the input will be included in the output.\n",
              "    - A list-like of dtypes : Limits the results to the\n",
              "      provided data types.\n",
              "      To limit the result to numeric types submit\n",
              "      ``numpy.number``. To limit it instead to object columns submit\n",
              "      the ``numpy.object`` data type. Strings\n",
              "      can also be used in the style of\n",
              "      ``select_dtypes`` (e.g. ``df.describe(include=[&#x27;O&#x27;])``). To\n",
              "      select pandas categorical columns, use ``&#x27;category&#x27;``\n",
              "    - None (default) : The result will include all numeric columns.\n",
              "exclude : list-like of dtypes or None (default), optional,\n",
              "    A black list of data types to omit from the result. Ignored\n",
              "    for ``Series``. Here are the options:\n",
              "\n",
              "    - A list-like of dtypes : Excludes the provided data types\n",
              "      from the result. To exclude numeric types submit\n",
              "      ``numpy.number``. To exclude object columns submit the data\n",
              "      type ``numpy.object``. Strings can also be used in the style of\n",
              "      ``select_dtypes`` (e.g. ``df.describe(exclude=[&#x27;O&#x27;])``). To\n",
              "      exclude pandas categorical columns, use ``&#x27;category&#x27;``\n",
              "    - None (default) : The result will exclude nothing.\n",
              "\n",
              "Returns\n",
              "-------\n",
              "Series or DataFrame\n",
              "    Summary statistics of the Series or Dataframe provided.\n",
              "\n",
              "See Also\n",
              "--------\n",
              "DataFrame.count: Count number of non-NA/null observations.\n",
              "DataFrame.max: Maximum of the values in the object.\n",
              "DataFrame.min: Minimum of the values in the object.\n",
              "DataFrame.mean: Mean of the values.\n",
              "DataFrame.std: Standard deviation of the observations.\n",
              "DataFrame.select_dtypes: Subset of a DataFrame including/excluding\n",
              "    columns based on their dtype.\n",
              "\n",
              "Notes\n",
              "-----\n",
              "For numeric data, the result&#x27;s index will include ``count``,\n",
              "``mean``, ``std``, ``min``, ``max`` as well as lower, ``50`` and\n",
              "upper percentiles. By default the lower percentile is ``25`` and the\n",
              "upper percentile is ``75``. The ``50`` percentile is the\n",
              "same as the median.\n",
              "\n",
              "For object data (e.g. strings or timestamps), the result&#x27;s index\n",
              "will include ``count``, ``unique``, ``top``, and ``freq``. The ``top``\n",
              "is the most common value. The ``freq`` is the most common value&#x27;s\n",
              "frequency. Timestamps also include the ``first`` and ``last`` items.\n",
              "\n",
              "If multiple object values have the highest count, then the\n",
              "``count`` and ``top`` results will be arbitrarily chosen from\n",
              "among those with the highest count.\n",
              "\n",
              "For mixed data types provided via a ``DataFrame``, the default is to\n",
              "return only an analysis of numeric columns. If the dataframe consists\n",
              "only of object and categorical data without any numeric columns, the\n",
              "default is to return an analysis of both the object and categorical\n",
              "columns. If ``include=&#x27;all&#x27;`` is provided as an option, the result\n",
              "will include a union of attributes of each type.\n",
              "\n",
              "The `include` and `exclude` parameters can be used to limit\n",
              "which columns in a ``DataFrame`` are analyzed for the output.\n",
              "The parameters are ignored when analyzing a ``Series``.\n",
              "\n",
              "Examples\n",
              "--------\n",
              "Describing a numeric ``Series``.\n",
              "\n",
              "&gt;&gt;&gt; s = pd.Series([1, 2, 3])\n",
              "&gt;&gt;&gt; s.describe()\n",
              "count    3.0\n",
              "mean     2.0\n",
              "std      1.0\n",
              "min      1.0\n",
              "25%      1.5\n",
              "50%      2.0\n",
              "75%      2.5\n",
              "max      3.0\n",
              "dtype: float64\n",
              "\n",
              "Describing a categorical ``Series``.\n",
              "\n",
              "&gt;&gt;&gt; s = pd.Series([&#x27;a&#x27;, &#x27;a&#x27;, &#x27;b&#x27;, &#x27;c&#x27;])\n",
              "&gt;&gt;&gt; s.describe()\n",
              "count     4\n",
              "unique    3\n",
              "top       a\n",
              "freq      2\n",
              "dtype: object\n",
              "\n",
              "Describing a timestamp ``Series``.\n",
              "\n",
              "&gt;&gt;&gt; s = pd.Series([\n",
              "...     np.datetime64(&quot;2000-01-01&quot;),\n",
              "...     np.datetime64(&quot;2010-01-01&quot;),\n",
              "...     np.datetime64(&quot;2010-01-01&quot;)\n",
              "... ])\n",
              "&gt;&gt;&gt; s.describe()\n",
              "count                      3\n",
              "mean     2006-09-01 08:00:00\n",
              "min      2000-01-01 00:00:00\n",
              "25%      2004-12-31 12:00:00\n",
              "50%      2010-01-01 00:00:00\n",
              "75%      2010-01-01 00:00:00\n",
              "max      2010-01-01 00:00:00\n",
              "dtype: object\n",
              "\n",
              "Describing a ``DataFrame``. By default only numeric fields\n",
              "are returned.\n",
              "\n",
              "&gt;&gt;&gt; df = pd.DataFrame({&#x27;categorical&#x27;: pd.Categorical([&#x27;d&#x27;, &#x27;e&#x27;, &#x27;f&#x27;]),\n",
              "...                    &#x27;numeric&#x27;: [1, 2, 3],\n",
              "...                    &#x27;object&#x27;: [&#x27;a&#x27;, &#x27;b&#x27;, &#x27;c&#x27;]\n",
              "...                    })\n",
              "&gt;&gt;&gt; df.describe()\n",
              "       numeric\n",
              "count      3.0\n",
              "mean       2.0\n",
              "std        1.0\n",
              "min        1.0\n",
              "25%        1.5\n",
              "50%        2.0\n",
              "75%        2.5\n",
              "max        3.0\n",
              "\n",
              "Describing all columns of a ``DataFrame`` regardless of data type.\n",
              "\n",
              "&gt;&gt;&gt; df.describe(include=&#x27;all&#x27;)  # doctest: +SKIP\n",
              "       categorical  numeric object\n",
              "count            3      3.0      3\n",
              "unique           3      NaN      3\n",
              "top              f      NaN      a\n",
              "freq             1      NaN      1\n",
              "mean           NaN      2.0    NaN\n",
              "std            NaN      1.0    NaN\n",
              "min            NaN      1.0    NaN\n",
              "25%            NaN      1.5    NaN\n",
              "50%            NaN      2.0    NaN\n",
              "75%            NaN      2.5    NaN\n",
              "max            NaN      3.0    NaN\n",
              "\n",
              "Describing a column from a ``DataFrame`` by accessing it as\n",
              "an attribute.\n",
              "\n",
              "&gt;&gt;&gt; df.numeric.describe()\n",
              "count    3.0\n",
              "mean     2.0\n",
              "std      1.0\n",
              "min      1.0\n",
              "25%      1.5\n",
              "50%      2.0\n",
              "75%      2.5\n",
              "max      3.0\n",
              "Name: numeric, dtype: float64\n",
              "\n",
              "Including only numeric columns in a ``DataFrame`` description.\n",
              "\n",
              "&gt;&gt;&gt; df.describe(include=[np.number])\n",
              "       numeric\n",
              "count      3.0\n",
              "mean       2.0\n",
              "std        1.0\n",
              "min        1.0\n",
              "25%        1.5\n",
              "50%        2.0\n",
              "75%        2.5\n",
              "max        3.0\n",
              "\n",
              "Including only string columns in a ``DataFrame`` description.\n",
              "\n",
              "&gt;&gt;&gt; df.describe(include=[object])  # doctest: +SKIP\n",
              "       object\n",
              "count       3\n",
              "unique      3\n",
              "top         a\n",
              "freq        1\n",
              "\n",
              "Including only categorical columns from a ``DataFrame`` description.\n",
              "\n",
              "&gt;&gt;&gt; df.describe(include=[&#x27;category&#x27;])\n",
              "       categorical\n",
              "count            3\n",
              "unique           3\n",
              "top              d\n",
              "freq             1\n",
              "\n",
              "Excluding numeric columns from a ``DataFrame`` description.\n",
              "\n",
              "&gt;&gt;&gt; df.describe(exclude=[np.number])  # doctest: +SKIP\n",
              "       categorical object\n",
              "count            3      3\n",
              "unique           3      3\n",
              "top              f      a\n",
              "freq             1      1\n",
              "\n",
              "Excluding object columns from a ``DataFrame`` description.\n",
              "\n",
              "&gt;&gt;&gt; df.describe(exclude=[object])  # doctest: +SKIP\n",
              "       categorical  numeric\n",
              "count            3      3.0\n",
              "unique           3      NaN\n",
              "top              f      NaN\n",
              "freq             1      NaN\n",
              "mean           NaN      2.0\n",
              "std            NaN      1.0\n",
              "min            NaN      1.0\n",
              "25%            NaN      1.5\n",
              "50%            NaN      2.0\n",
              "75%            NaN      2.5\n",
              "max            NaN      3.0</pre>\n",
              "      <script>\n",
              "      if (google.colab.kernel.accessAllowed && google.colab.files && google.colab.files.view) {\n",
              "        for (const element of document.querySelectorAll('.filepath')) {\n",
              "          element.style.display = 'block'\n",
              "          element.onclick = (event) => {\n",
              "            event.preventDefault();\n",
              "            event.stopPropagation();\n",
              "            google.colab.files.view(element.textContent, 11734);\n",
              "          };\n",
              "        }\n",
              "      }\n",
              "      for (const element of document.querySelectorAll('.function-repr-contents')) {\n",
              "        element.onclick = (event) => {\n",
              "          event.preventDefault();\n",
              "          event.stopPropagation();\n",
              "          element.classList.toggle('function-repr-contents-collapsed');\n",
              "        };\n",
              "      }\n",
              "      </script>\n",
              "      </div>"
            ]
          },
          "metadata": {},
          "execution_count": 6
        }
      ],
      "source": [
        "data.describe"
      ]
    },
    {
      "cell_type": "code",
      "execution_count": null,
      "id": "ac19fe9f-8b66-4079-9310-7e84f324eae1",
      "metadata": {
        "id": "ac19fe9f-8b66-4079-9310-7e84f324eae1"
      },
      "outputs": [],
      "source": [
        "data=data.dropna(subset=['winner','player_of_match', 'umpire1', 'umpire2', 'city'])"
      ]
    },
    {
      "cell_type": "code",
      "execution_count": null,
      "id": "9acfff32-477a-4c16-8aa7-8e1d648c3482",
      "metadata": {
        "colab": {
          "base_uri": "https://localhost:8080/"
        },
        "id": "9acfff32-477a-4c16-8aa7-8e1d648c3482",
        "outputId": "a915cc08-6801-4e5d-ac36-7460983d54b1"
      },
      "outputs": [
        {
          "output_type": "stream",
          "name": "stderr",
          "text": [
            "<ipython-input-8-1caa7486c6c3>:1: SettingWithCopyWarning: \n",
            "A value is trying to be set on a copy of a slice from a DataFrame.\n",
            "Try using .loc[row_indexer,col_indexer] = value instead\n",
            "\n",
            "See the caveats in the documentation: https://pandas.pydata.org/pandas-docs/stable/user_guide/indexing.html#returning-a-view-versus-a-copy\n",
            "  data['date'] = pd.to_datetime(data['date'], errors='coerce')\n"
          ]
        }
      ],
      "source": [
        "data['date'] = pd.to_datetime(data['date'], errors='coerce')"
      ]
    },
    {
      "cell_type": "code",
      "source": [
        "data.columns = [col.lower().replace(\" \", \"_\") for col in data.columns]"
      ],
      "metadata": {
        "id": "JTJNmUHwPHX_"
      },
      "id": "JTJNmUHwPHX_",
      "execution_count": null,
      "outputs": []
    },
    {
      "cell_type": "code",
      "source": [
        "print(data.head(5))"
      ],
      "metadata": {
        "colab": {
          "base_uri": "https://localhost:8080/"
        },
        "id": "gffcepudPWbd",
        "outputId": "831c4ccf-61e8-4a2b-aa84-bece2feb6305"
      },
      "id": "gffcepudPWbd",
      "execution_count": null,
      "outputs": [
        {
          "output_type": "stream",
          "name": "stdout",
          "text": [
            "   id  season       city       date                   team1  \\\n",
            "0   1    2017  Hyderabad 2017-05-04     Sunrisers Hyderabad   \n",
            "1   2    2017       Pune 2017-06-04          Mumbai Indians   \n",
            "2   3    2017     Rajkot 2017-07-04           Gujarat Lions   \n",
            "3   4    2017     Indore 2017-08-04  Rising Pune Supergiant   \n",
            "5   6    2017  Hyderabad 2017-09-04           Gujarat Lions   \n",
            "\n",
            "                         team2                  toss_winner toss_decision  \\\n",
            "0  Royal Challengers Bangalore  Royal Challengers Bangalore         field   \n",
            "1       Rising Pune Supergiant       Rising Pune Supergiant         field   \n",
            "2        Kolkata Knight Riders        Kolkata Knight Riders         field   \n",
            "3              Kings XI Punjab              Kings XI Punjab         field   \n",
            "5          Sunrisers Hyderabad          Sunrisers Hyderabad         field   \n",
            "\n",
            "   result  dl_applied                  winner  win_by_runs  win_by_wickets  \\\n",
            "0  normal           0     Sunrisers Hyderabad           35               0   \n",
            "1  normal           0  Rising Pune Supergiant            0               7   \n",
            "2  normal           0   Kolkata Knight Riders            0              10   \n",
            "3  normal           0         Kings XI Punjab            0               6   \n",
            "5  normal           0     Sunrisers Hyderabad            0               9   \n",
            "\n",
            "  player_of_match                                      venue         umpire1  \\\n",
            "0    Yuvraj Singh  Rajiv Gandhi International Stadium, Uppal     AY Dandekar   \n",
            "1       SPD Smith    Maharashtra Cricket Association Stadium  A Nand Kishore   \n",
            "2         CA Lynn     Saurashtra Cricket Association Stadium     Nitin Menon   \n",
            "3      GJ Maxwell                     Holkar Cricket Stadium    AK Chaudhary   \n",
            "5     Rashid Khan  Rajiv Gandhi International Stadium, Uppal      A Deshmukh   \n",
            "\n",
            "         umpire2  \n",
            "0       NJ Llong  \n",
            "1         S Ravi  \n",
            "2      CK Nandan  \n",
            "3  C Shamshuddin  \n",
            "5       NJ Llong  \n"
          ]
        }
      ]
    },
    {
      "cell_type": "markdown",
      "source": [
        "EXPLORATORY DATA ANALYSIS"
      ],
      "metadata": {
        "id": "CggMcfSNUjfI"
      },
      "id": "CggMcfSNUjfI"
    },
    {
      "cell_type": "markdown",
      "source": [
        "1. Top Wins by Teams"
      ],
      "metadata": {
        "id": "P4zS99LgUozu"
      },
      "id": "P4zS99LgUozu"
    },
    {
      "cell_type": "code",
      "source": [
        "top_teams=data['winner'].value_counts().head(10)"
      ],
      "metadata": {
        "id": "q5Cz7u8VPdF1"
      },
      "id": "q5Cz7u8VPdF1",
      "execution_count": null,
      "outputs": []
    },
    {
      "cell_type": "code",
      "source": [
        "print(top_teams)"
      ],
      "metadata": {
        "colab": {
          "base_uri": "https://localhost:8080/"
        },
        "id": "ny--fiYIVCD-",
        "outputId": "a0dcd424-7585-4173-994a-8c00ffbbfb5c"
      },
      "id": "ny--fiYIVCD-",
      "execution_count": null,
      "outputs": [
        {
          "output_type": "stream",
          "name": "stdout",
          "text": [
            "winner\n",
            "Mumbai Indians                 92\n",
            "Kolkata Knight Riders          77\n",
            "Chennai Super Kings            77\n",
            "Royal Challengers Bangalore    71\n",
            "Kings XI Punjab                69\n",
            "Rajasthan Royals               63\n",
            "Delhi Daredevils               61\n",
            "Sunrisers Hyderabad            40\n",
            "Deccan Chargers                29\n",
            "Gujarat Lions                  13\n",
            "Name: count, dtype: int64\n"
          ]
        }
      ]
    },
    {
      "cell_type": "markdown",
      "source": [
        "2. \"Most Player of the Match\" award"
      ],
      "metadata": {
        "id": "FEwg7wCsWBKX"
      },
      "id": "FEwg7wCsWBKX"
    },
    {
      "cell_type": "code",
      "source": [
        "player_match=data['player_of_match'].value_counts().head(10)"
      ],
      "metadata": {
        "id": "_3JpQ3LfVchf"
      },
      "id": "_3JpQ3LfVchf",
      "execution_count": null,
      "outputs": []
    },
    {
      "cell_type": "code",
      "source": [
        "print(player_match)"
      ],
      "metadata": {
        "id": "RU4JR7jwVXlM",
        "colab": {
          "base_uri": "https://localhost:8080/"
        },
        "outputId": "8cd4dd8c-78d9-45bf-a015-f9964821458a"
      },
      "id": "RU4JR7jwVXlM",
      "execution_count": null,
      "outputs": [
        {
          "output_type": "stream",
          "name": "stdout",
          "text": [
            "player_of_match\n",
            "CH Gayle          18\n",
            "YK Pathan         16\n",
            "DA Warner         15\n",
            "AB de Villiers    15\n",
            "RG Sharma         14\n",
            "SK Raina          14\n",
            "MS Dhoni          13\n",
            "G Gambhir         13\n",
            "MEK Hussey        12\n",
            "AM Rahane         12\n",
            "Name: count, dtype: int64\n"
          ]
        }
      ]
    },
    {
      "cell_type": "markdown",
      "source": [
        "3. Most Common Venues"
      ],
      "metadata": {
        "id": "8SWwv87D8yQl"
      },
      "id": "8SWwv87D8yQl"
    },
    {
      "cell_type": "code",
      "source": [
        "common_venues=data['venue'].value_counts().head(10)"
      ],
      "metadata": {
        "id": "juRDKc8y87N4"
      },
      "id": "juRDKc8y87N4",
      "execution_count": null,
      "outputs": []
    },
    {
      "cell_type": "code",
      "source": [
        "print(common_venues)"
      ],
      "metadata": {
        "colab": {
          "base_uri": "https://localhost:8080/"
        },
        "id": "z09Svf3N9LKe",
        "outputId": "b0ff313c-ca89-44e0-e542-db80616e214e"
      },
      "id": "z09Svf3N9LKe",
      "execution_count": null,
      "outputs": [
        {
          "output_type": "stream",
          "name": "stdout",
          "text": [
            "venue\n",
            "M Chinnaswamy Stadium                         63\n",
            "Eden Gardens                                  61\n",
            "Feroz Shah Kotla                              59\n",
            "Wankhede Stadium                              57\n",
            "Rajiv Gandhi International Stadium, Uppal     49\n",
            "MA Chidambaram Stadium, Chepauk               48\n",
            "Punjab Cricket Association Stadium, Mohali    35\n",
            "Sawai Mansingh Stadium                        33\n",
            "Subrata Roy Sahara Stadium                    17\n",
            "Dr DY Patil Sports Academy                    17\n",
            "Name: count, dtype: int64\n"
          ]
        }
      ]
    },
    {
      "cell_type": "markdown",
      "source": [
        "4. Win Margin Distribution"
      ],
      "metadata": {
        "id": "1qktGEGt9WmC"
      },
      "id": "1qktGEGt9WmC"
    },
    {
      "cell_type": "code",
      "source": [
        "# set style\n",
        "sns.set(style=\"whitegrid\")\n",
        "plt.figure(figsize=(14,6))"
      ],
      "metadata": {
        "colab": {
          "base_uri": "https://localhost:8080/",
          "height": 52
        },
        "id": "vInRfeh79Q_X",
        "outputId": "f882029d-b789-4a4e-d31a-60786fe6d29c"
      },
      "id": "vInRfeh79Q_X",
      "execution_count": null,
      "outputs": [
        {
          "output_type": "execute_result",
          "data": {
            "text/plain": [
              "<Figure size 1400x600 with 0 Axes>"
            ]
          },
          "metadata": {},
          "execution_count": 17
        },
        {
          "output_type": "display_data",
          "data": {
            "text/plain": [
              "<Figure size 1400x600 with 0 Axes>"
            ]
          },
          "metadata": {}
        }
      ]
    },
    {
      "cell_type": "code",
      "source": [
        "# distribution by wins_by_runs\n",
        "plt.subplot(1,2,1)\n",
        "sns.histplot(data[data['win_by_runs']>0]['win_by_runs'],bins=30,kde=True,color='skyblue')\n",
        "plt.title(\"Distribution of wins by runs\")\n",
        "plt.xlabel(\"Wins by Runs\")\n",
        "plt.ylabel('Match Count')\n",
        "\n",
        "# distribution by win_by_wickets\n",
        "plt.subplot(1, 2, 2)\n",
        "sns.histplot(data[data['win_by_wickets'] > 0]['win_by_wickets'], bins=10, kde=False, color='orange')\n",
        "plt.title('Distribution of Wins by Wickets')\n",
        "plt.xlabel('Win by Wickets')\n",
        "plt.ylabel('Match Count')\n",
        "\n",
        "\n",
        "plt.tight_layout()\n",
        "plt.show()"
      ],
      "metadata": {
        "id": "HtgkbMvfBNVw",
        "colab": {
          "base_uri": "https://localhost:8080/",
          "height": 481
        },
        "outputId": "8da33125-4033-46cb-f697-b297c1edd39f"
      },
      "id": "HtgkbMvfBNVw",
      "execution_count": null,
      "outputs": [
        {
          "output_type": "display_data",
          "data": {
            "text/plain": [
              "<Figure size 640x480 with 2 Axes>"
            ],
            "image/png": "[encoded data removed]"
          },
          "metadata": {}
        }
      ]
    },
    {
      "cell_type": "markdown",
      "source": [
        "3. Toss Decision Trends"
      ],
      "metadata": {
        "id": "Xz6zalSnlCUU"
      },
      "id": "Xz6zalSnlCUU"
    },
    {
      "cell_type": "code",
      "source": [
        "# toss decision count (Bat vs Field)\n",
        "sns.set(style=\"whitegrid\")\n",
        "plt.figure(figsize=(6,4))\n",
        "sns.countplot(x='toss_decision', data=data, palette='pastel')"
      ],
      "metadata": {
        "id": "28ScOYOJBZwN",
        "colab": {
          "base_uri": "https://localhost:8080/",
          "height": 521
        },
        "outputId": "45ca2648-e161-4150-d5e2-479ed4492015"
      },
      "id": "28ScOYOJBZwN",
      "execution_count": null,
      "outputs": [
        {
          "output_type": "stream",
          "name": "stderr",
          "text": [
            "<ipython-input-19-f2e801c72fb2>:4: FutureWarning: \n",
            "\n",
            "Passing `palette` without assigning `hue` is deprecated and will be removed in v0.14.0. Assign the `x` variable to `hue` and set `legend=False` for the same effect.\n",
            "\n",
            "  sns.countplot(x='toss_decision', data=data, palette='pastel')\n"
          ]
        },
        {
          "output_type": "execute_result",
          "data": {
            "text/plain": [
              "<Axes: xlabel='toss_decision', ylabel='count'>"
            ]
          },
          "metadata": {},
          "execution_count": 19
        },
        {
          "output_type": "display_data",
          "data": {
            "text/plain": [
              "<Figure size 600x400 with 1 Axes>"
            ],
            "image/png": "[encoded data removed]"
          },
          "metadata": {}
        }
      ]
    },
    {
      "cell_type": "code",
      "source": [
        "#toss winner VS match winner\n",
        "data['toss_win_match_win']=data['toss_winner']==data['winner']\n",
        "\n",
        "toss_effect=data['toss_win_match_win'].value_counts(normalize=True)*100\n",
        "print(toss_effect)"
      ],
      "metadata": {
        "id": "6Kd6m7ZBiRv1",
        "colab": {
          "base_uri": "https://localhost:8080/"
        },
        "outputId": "52df8d35-13da-4ad1-a2ee-451030f317f5"
      },
      "id": "6Kd6m7ZBiRv1",
      "execution_count": null,
      "outputs": [
        {
          "output_type": "stream",
          "name": "stdout",
          "text": [
            "toss_win_match_win\n",
            "True     51.36\n",
            "False    48.64\n",
            "Name: proportion, dtype: float64\n"
          ]
        },
        {
          "output_type": "stream",
          "name": "stderr",
          "text": [
            "<ipython-input-20-6c7e4c02db33>:2: SettingWithCopyWarning: \n",
            "A value is trying to be set on a copy of a slice from a DataFrame.\n",
            "Try using .loc[row_indexer,col_indexer] = value instead\n",
            "\n",
            "See the caveats in the documentation: https://pandas.pydata.org/pandas-docs/stable/user_guide/indexing.html#returning-a-view-versus-a-copy\n",
            "  data['toss_win_match_win']=data['toss_winner']==data['winner']\n"
          ]
        }
      ]
    },
    {
      "cell_type": "code",
      "source": [],
      "metadata": {
        "id": "mtrjAxOgiY1B"
      },
      "id": "mtrjAxOgiY1B",
      "execution_count": null,
      "outputs": []
    }
  ],
  "metadata": {
    "kernelspec": {
      "display_name": "Python [conda env:base] *",
      "language": "python",
      "name": "conda-base-py"
    },
    "language_info": {
      "codemirror_mode": {
        "name": "ipython",
        "version": 3
      },
      "file_extension": ".py",
      "mimetype": "text/x-python",
      "name": "python",
      "nbconvert_exporter": "python",
      "pygments_lexer": "ipython3",
      "version": "3.12.7"
    },
    "colab": {
      "provenance": []
    }
  },
  "nbformat": 4,
  "nbformat_minor": 5
}